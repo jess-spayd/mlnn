{
 "cells": [
  {
   "cell_type": "code",
   "execution_count": 1,
   "id": "348e6d33",
   "metadata": {},
   "outputs": [
    {
     "name": "stdout",
     "output_type": "stream",
     "text": [
      "Hello world!\n"
     ]
    }
   ],
   "source": [
    "print(\"Hello world!\")"
   ]
  },
  {
   "cell_type": "code",
   "execution_count": 2,
   "id": "db8316f3",
   "metadata": {},
   "outputs": [
    {
     "data": {
      "text/plain": [
       "20.700000000000003"
      ]
     },
     "execution_count": 2,
     "metadata": {},
     "output_type": "execute_result"
    }
   ],
   "source": [
    "a = 14\n",
    "b = 6\n",
    "c = 1.05\n",
    "a * c + b"
   ]
  },
  {
   "cell_type": "code",
   "execution_count": 4,
   "id": "8b232b96",
   "metadata": {},
   "outputs": [
    {
     "name": "stdout",
     "output_type": "stream",
     "text": [
      "ok bye\n"
     ]
    }
   ],
   "source": [
    "d = \"ok\"\n",
    "e = \"bye\"\n",
    "print(d + \" \" + e)"
   ]
  }
 ],
 "metadata": {
  "kernelspec": {
   "display_name": "Python 3 (ipykernel)",
   "language": "python",
   "name": "python3"
  },
  "language_info": {
   "codemirror_mode": {
    "name": "ipython",
    "version": 3
   },
   "file_extension": ".py",
   "mimetype": "text/x-python",
   "name": "python",
   "nbconvert_exporter": "python",
   "pygments_lexer": "ipython3",
   "version": "3.9.10"
  }
 },
 "nbformat": 4,
 "nbformat_minor": 5
}
